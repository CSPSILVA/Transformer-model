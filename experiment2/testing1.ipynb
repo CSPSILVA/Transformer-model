{
 "cells": [
  {
   "cell_type": "code",
   "execution_count": null,
   "id": "2af10186-6746-4d9e-b50c-f39731a0e3db",
   "metadata": {},
   "outputs": [],
   "source": [
    "from joblib import load\n",
    "\n",
    "# Load the saved scaler\n",
    "scaler = load(scaler_file_path)\n",
    "# Correctly extracting or reshaping predictions\n",
    "correct_predictions = predictions.reshape(-1) \n",
    "\n",
    "dummy_array = np.zeros((correct_predictions.shape[0], len(features)))\n",
    "dummy_array[:, 0] = correct_predictions  # Assuming this now matches in shape\n",
    "\n",
    "# Inverse transform\n",
    "predictions_original_scale = scaler.inverse_transform(dummy_array)\n",
    "# Extract the relevant feature's predictions\n",
    "predictions_original_scale = predictions_original_scale[:, 0]"
   ]
  },
  {
   "cell_type": "code",
   "execution_count": null,
   "id": "b8e20ade-fd64-4770-8be1-b3a4ab4af5bd",
   "metadata": {},
   "outputs": [],
   "source": [
    "from sklearn.metrics import mean_absolute_error, mean_squared_error\n",
    "import numpy as np\n",
    "\n",
    "# Assuming `predictions` might contain multiple predictions per sequence and you need the last one\n",
    "if predictions.ndim > 1 and predictions.shape[1] > 1:\n",
    "    # Extract the last prediction from each sequence\n",
    "    relevant_predictions = predictions[:, -1]\n",
    "else:\n",
    "    relevant_predictions = predictions.flatten()\n",
    "\n",
    "# Ensure the shape matches `y_test_original`\n",
    "relevant_predictions = relevant_predictions.reshape(-1, 1)\n",
    "\n",
    "print(y_test_original.shape)\n",
    "print(relevant_predictions.shape)\n",
    "\n",
    "mae = mean_absolute_error(y_test_original, relevant_predictions)\n",
    "mse = mean_squared_error(y_test_original, relevant_predictions)\n",
    "rmse = np.sqrt(mse)\n",
    "\n",
    "print(f\"Mean Absolute Error (MAE): {mae}\")\n",
    "print(f\"Mean Squared Error (MSE): {mse}\")\n",
    "print(f\"Root Mean Squared Error (RMSE): {rmse}\")"
   ]
  }
 ],
 "metadata": {
  "kernelspec": {
   "display_name": "Python 3 (ipykernel)",
   "language": "python",
   "name": "python3"
  },
  "language_info": {
   "codemirror_mode": {
    "name": "ipython",
    "version": 3
   },
   "file_extension": ".py",
   "mimetype": "text/x-python",
   "name": "python",
   "nbconvert_exporter": "python",
   "pygments_lexer": "ipython3",
   "version": "3.11.5"
  }
 },
 "nbformat": 4,
 "nbformat_minor": 5
}
