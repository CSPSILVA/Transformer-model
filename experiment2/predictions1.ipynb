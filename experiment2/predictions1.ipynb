{
 "cells": [
  {
   "cell_type": "code",
   "execution_count": null,
   "id": "dbdfaa9a-7528-46e7-aa0c-ba29d2d3334a",
   "metadata": {},
   "outputs": [],
   "source": [
    "import numpy as np\n",
    "from tensorflow.keras.models import load_model\n",
    "\n",
    "model_path = 'D:/IIT/Y5/Final Year Project/FYP/Datasets/archive4_1/unisolar/Train and Test data sets/solar_forecasting_model.keras'\n",
    "model = load_model(model_path, custom_objects={\n",
    "    'EncoderLayer': EncoderLayer,\n",
    "    'MultiHeadAttention': MultiHeadAttention\n",
    "})\n",
    "\n",
    "X_test_path = 'D:/IIT/Y5/Final Year Project/FYP/Datasets/archive4_1/unisolar/Train and Test data sets/X_test.npy'\n",
    "X_test = np.load(X_test_path)\n",
    "\n",
    "# Make Predictions\n",
    "predictions = model.predict(X_test)\n",
    "\n",
    "# Print the first 10 forecasted values\n",
    "print(predictions[:10])\n"
   ]
  }
 ],
 "metadata": {
  "kernelspec": {
   "display_name": "Python 3 (ipykernel)",
   "language": "python",
   "name": "python3"
  },
  "language_info": {
   "codemirror_mode": {
    "name": "ipython",
    "version": 3
   },
   "file_extension": ".py",
   "mimetype": "text/x-python",
   "name": "python",
   "nbconvert_exporter": "python",
   "pygments_lexer": "ipython3",
   "version": "3.11.5"
  }
 },
 "nbformat": 4,
 "nbformat_minor": 5
}
